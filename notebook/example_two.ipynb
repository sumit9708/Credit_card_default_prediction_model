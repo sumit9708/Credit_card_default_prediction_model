{
 "cells": [
  {
   "cell_type": "code",
   "execution_count": 1,
   "metadata": {},
   "outputs": [],
   "source": [
    "import os"
   ]
  },
  {
   "cell_type": "code",
   "execution_count": 2,
   "metadata": {},
   "outputs": [
    {
     "data": {
      "text/plain": [
       "'d:\\\\ML Projects\\\\Credit_card_default_prediction_model\\\\notebook'"
      ]
     },
     "execution_count": 2,
     "metadata": {},
     "output_type": "execute_result"
    }
   ],
   "source": [
    "os.getcwd()"
   ]
  },
  {
   "cell_type": "code",
   "execution_count": 3,
   "metadata": {},
   "outputs": [],
   "source": [
    "os.chdir(\"d:\\\\ML Projects\\\\Credit_card_default_prediction_model\")"
   ]
  },
  {
   "cell_type": "code",
   "execution_count": 4,
   "metadata": {},
   "outputs": [
    {
     "name": "stdout",
     "output_type": "stream",
     "text": [
      "data_ingestion_log_completed\n"
     ]
    }
   ],
   "source": [
    "from default_prediction.config.configuration import Configuration"
   ]
  },
  {
   "cell_type": "code",
   "execution_count": 5,
   "metadata": {},
   "outputs": [],
   "source": [
    "config= Configuration()"
   ]
  },
  {
   "cell_type": "code",
   "execution_count": 6,
   "metadata": {},
   "outputs": [
    {
     "name": "stdout",
     "output_type": "stream",
     "text": [
      "DataIngestionConfig(data_download_url='https://raw.githubusercontent.com/sumit9708/credit_card_dataset/main/cs-training.csv', csv_download_dir='d:\\\\ML Projects\\\\Credit_card_default_prediction_model\\\\default_prediction\\\\artifact\\\\data_ingestion\\\\2022-08-10-09-46-38\\\\csv_data', raw_data_dir='d:\\\\ML Projects\\\\Credit_card_default_prediction_model\\\\default_prediction\\\\artifact\\\\data_ingestion\\\\2022-08-10-09-46-38\\\\raw_data', schema_file_path='d:\\\\ML Projects\\\\Credit_card_default_prediction_model\\\\config\\\\schema.yaml', ingested_train_dir='d:\\\\ML Projects\\\\Credit_card_default_prediction_model\\\\default_prediction\\\\artifact\\\\data_ingestion\\\\2022-08-10-09-46-38\\\\ingested_data\\\\train', ingested_test_dir='d:\\\\ML Projects\\\\Credit_card_default_prediction_model\\\\default_prediction\\\\artifact\\\\data_ingestion\\\\2022-08-10-09-46-38\\\\ingested_data\\\\test')\n"
     ]
    }
   ],
   "source": [
    "data_ingestion_config = config.get_data_ingestion_config()\n",
    "data_validation_config = config.get_data_validation_config()\n",
    "data_transformation_config = config.get_data_transformation_config()\n",
    "model_trainer_config = config.get_model_trainer_config()"
   ]
  },
  {
   "cell_type": "code",
   "execution_count": 7,
   "metadata": {},
   "outputs": [
    {
     "name": "stdout",
     "output_type": "stream",
     "text": [
      "reached in data_ingestion inside component\n",
      "log after data_ingestion\n"
     ]
    }
   ],
   "source": [
    "from default_prediction.component.data_ingestion import DataIngestion"
   ]
  },
  {
   "cell_type": "code",
   "execution_count": 8,
   "metadata": {},
   "outputs": [],
   "source": [
    "data_ingestion = DataIngestion(data_ingestion_config=data_ingestion_config)"
   ]
  },
  {
   "cell_type": "code",
   "execution_count": 9,
   "metadata": {},
   "outputs": [],
   "source": [
    "data_ingestion_artifact = data_ingestion.initiate_data_ingestion()"
   ]
  },
  {
   "cell_type": "code",
   "execution_count": 10,
   "metadata": {},
   "outputs": [],
   "source": [
    "from default_prediction.component.data_validation import DataValidation"
   ]
  },
  {
   "cell_type": "code",
   "execution_count": 11,
   "metadata": {},
   "outputs": [],
   "source": [
    "data_validation = DataValidation(data_validation_config=data_validation_config,data_ingestion_artifact=data_ingestion_artifact)"
   ]
  },
  {
   "cell_type": "code",
   "execution_count": 12,
   "metadata": {},
   "outputs": [],
   "source": [
    "data_validation_artifact = data_validation.initiate_data_validation()"
   ]
  },
  {
   "cell_type": "code",
   "execution_count": 13,
   "metadata": {},
   "outputs": [],
   "source": [
    "from default_prediction.component.data_transformation import DataTransformation"
   ]
  },
  {
   "cell_type": "code",
   "execution_count": 14,
   "metadata": {},
   "outputs": [],
   "source": [
    "data_transformation = DataTransformation(data_transformation_config=data_transformation_config,data_ingestion_artifact=data_ingestion_artifact,data_validation_artifact=data_validation_artifact)"
   ]
  },
  {
   "cell_type": "code",
   "execution_count": 15,
   "metadata": {},
   "outputs": [],
   "source": [
    "data_transformation_artifact = data_transformation.initiate_data_transformation()"
   ]
  },
  {
   "cell_type": "code",
   "execution_count": 16,
   "metadata": {},
   "outputs": [],
   "source": [
    "from default_prediction.component.model_training import ModelTrainer"
   ]
  },
  {
   "cell_type": "code",
   "execution_count": 17,
   "metadata": {},
   "outputs": [],
   "source": [
    "model_training = ModelTrainer(model_trainer_config=model_trainer_config,data_transformation_artifact=data_transformation_artifact)"
   ]
  },
  {
   "cell_type": "code",
   "execution_count": 18,
   "metadata": {},
   "outputs": [],
   "source": [
    "transformed_train_file_path = data_transformation_artifact.transformed_train_file_path"
   ]
  },
  {
   "cell_type": "code",
   "execution_count": 19,
   "metadata": {},
   "outputs": [],
   "source": [
    "from default_prediction.constant import *\n",
    "from default_prediction.util.util import *"
   ]
  },
  {
   "cell_type": "code",
   "execution_count": 20,
   "metadata": {},
   "outputs": [],
   "source": [
    "train_array = load_numpy_array_data(file_path=transformed_train_file_path)"
   ]
  },
  {
   "cell_type": "code",
   "execution_count": 21,
   "metadata": {},
   "outputs": [
    {
     "data": {
      "text/plain": [
       "array([[-1.73203637, -0.02055845, -0.49255769, ..., -0.0573641 ,\n",
       "         1.1435206 ,  1.        ],\n",
       "       [-1.73200751, -0.01979326, -0.83132784, ..., -0.0573641 ,\n",
       "         0.23832335,  0.        ],\n",
       "       [-1.73197864, -0.02099085, -0.9668359 , ..., -0.0573641 ,\n",
       "        -0.6668739 ,  0.        ],\n",
       "       ...,\n",
       "       [ 1.73197864, -0.02145691,  1.06578502, ..., -0.0573641 ,\n",
       "        -0.6668739 ,  0.        ],\n",
       "       [ 1.73200751, -0.02237894,  1.13353905, ..., -0.0573641 ,\n",
       "        -0.6668739 ,  0.        ],\n",
       "       [ 1.73203637, -0.02323384, -0.35704963, ..., -0.0573641 ,\n",
       "         0.23832335,  0.        ]])"
      ]
     },
     "execution_count": 21,
     "metadata": {},
     "output_type": "execute_result"
    }
   ],
   "source": [
    "train_array"
   ]
  },
  {
   "cell_type": "code",
   "execution_count": 22,
   "metadata": {},
   "outputs": [],
   "source": [
    "transformed_test_file_path = data_transformation_artifact.transformed_test_file_path\n",
    "test_array = load_numpy_array_data(file_path=transformed_test_file_path)"
   ]
  },
  {
   "cell_type": "code",
   "execution_count": 23,
   "metadata": {},
   "outputs": [
    {
     "data": {
      "text/plain": [
       "array([[ 1.73206524, -0.02270537, -0.35704963, ..., -0.0573641 ,\n",
       "         1.1435206 ,  0.        ],\n",
       "       [ 1.73209411, -0.01996597,  0.18498262, ..., -0.0573641 ,\n",
       "         1.1435206 ,  1.        ],\n",
       "       [ 1.73212298, -0.02232679,  0.45599874, ...,  0.18624606,\n",
       "         1.1435206 ,  0.        ],\n",
       "       ...,\n",
       "       [ 2.59800404, -0.02264174,  0.38824471, ..., -0.0573641 ,\n",
       "        -0.6668739 ,  0.        ],\n",
       "       [ 2.59803291, -0.02362732, -1.50886815, ..., -0.0573641 ,\n",
       "        -0.6668739 ,  0.        ],\n",
       "       [ 2.59806178, -0.02022134,  0.79476889, ..., -0.0573641 ,\n",
       "        -0.6668739 ,  0.        ]])"
      ]
     },
     "execution_count": 23,
     "metadata": {},
     "output_type": "execute_result"
    }
   ],
   "source": [
    "test_array"
   ]
  },
  {
   "cell_type": "code",
   "execution_count": 24,
   "metadata": {},
   "outputs": [],
   "source": [
    "x_train,y_train,x_test,y_test = train_array[:,:-1],train_array[:,-1],test_array[:,:-1],test_array[:,-1]"
   ]
  },
  {
   "cell_type": "code",
   "execution_count": 25,
   "metadata": {},
   "outputs": [
    {
     "data": {
      "text/plain": [
       "array([[-1.73203637, -0.02055845, -0.49255769, ...,  4.39433291,\n",
       "        -0.0573641 ,  1.1435206 ],\n",
       "       [-1.73200751, -0.01979326, -0.83132784, ..., -0.90014155,\n",
       "        -0.0573641 ,  0.23832335],\n",
       "       [-1.73197864, -0.02099085, -0.9668359 , ..., -0.90014155,\n",
       "        -0.0573641 , -0.6668739 ],\n",
       "       ...,\n",
       "       [ 1.73197864, -0.02145691,  1.06578502, ..., -0.01772914,\n",
       "        -0.0573641 , -0.6668739 ],\n",
       "       [ 1.73200751, -0.02237894,  1.13353905, ..., -0.01772914,\n",
       "        -0.0573641 , -0.6668739 ],\n",
       "       [ 1.73203637, -0.02323384, -0.35704963, ..., -0.01772914,\n",
       "        -0.0573641 ,  0.23832335]])"
      ]
     },
     "execution_count": 25,
     "metadata": {},
     "output_type": "execute_result"
    }
   ],
   "source": [
    "x_train"
   ]
  },
  {
   "cell_type": "code",
   "execution_count": 26,
   "metadata": {},
   "outputs": [
    {
     "data": {
      "text/plain": [
       "array([[ 1.73206524, -0.02270537, -0.35704963, ..., -0.01772914,\n",
       "        -0.0573641 ,  1.1435206 ],\n",
       "       [ 1.73209411, -0.01996597,  0.18498262, ..., -0.01772914,\n",
       "        -0.0573641 ,  1.1435206 ],\n",
       "       [ 1.73212298, -0.02232679,  0.45599874, ..., -0.01772914,\n",
       "         0.18624606,  1.1435206 ],\n",
       "       ...,\n",
       "       [ 2.59800404, -0.02264174,  0.38824471, ..., -0.01772914,\n",
       "        -0.0573641 , -0.6668739 ],\n",
       "       [ 2.59803291, -0.02362732, -1.50886815, ..., -0.90014155,\n",
       "        -0.0573641 , -0.6668739 ],\n",
       "       [ 2.59806178, -0.02022134,  0.79476889, ...,  0.86468327,\n",
       "        -0.0573641 , -0.6668739 ]])"
      ]
     },
     "execution_count": 26,
     "metadata": {},
     "output_type": "execute_result"
    }
   ],
   "source": [
    "x_test"
   ]
  },
  {
   "cell_type": "code",
   "execution_count": 27,
   "metadata": {},
   "outputs": [
    {
     "data": {
      "text/plain": [
       "array([1., 0., 0., ..., 0., 0., 0.])"
      ]
     },
     "execution_count": 27,
     "metadata": {},
     "output_type": "execute_result"
    }
   ],
   "source": [
    "y_train"
   ]
  },
  {
   "cell_type": "code",
   "execution_count": 28,
   "metadata": {},
   "outputs": [
    {
     "data": {
      "text/plain": [
       "array([0., 1., 0., ..., 0., 0., 0.])"
      ]
     },
     "execution_count": 28,
     "metadata": {},
     "output_type": "execute_result"
    }
   ],
   "source": [
    "y_test"
   ]
  },
  {
   "cell_type": "code",
   "execution_count": 29,
   "metadata": {},
   "outputs": [],
   "source": [
    "model_config_file_path = model_trainer_config.model_config_file_path"
   ]
  },
  {
   "cell_type": "code",
   "execution_count": 30,
   "metadata": {},
   "outputs": [
    {
     "data": {
      "text/plain": [
       "'d:\\\\ML Projects\\\\Credit_card_default_prediction_model\\\\config\\\\model.yaml'"
      ]
     },
     "execution_count": 30,
     "metadata": {},
     "output_type": "execute_result"
    }
   ],
   "source": [
    "model_config_file_path"
   ]
  },
  {
   "cell_type": "code",
   "execution_count": 31,
   "metadata": {},
   "outputs": [],
   "source": [
    "from default_prediction.entity.model_factory import ModelFactory"
   ]
  },
  {
   "cell_type": "code",
   "execution_count": 32,
   "metadata": {},
   "outputs": [],
   "source": [
    "model_factory = ModelFactory(model_config_path=model_config_file_path)"
   ]
  },
  {
   "cell_type": "code",
   "execution_count": 33,
   "metadata": {},
   "outputs": [],
   "source": [
    "base_accuracy = model_trainer_config.base_accuracy"
   ]
  },
  {
   "cell_type": "code",
   "execution_count": 34,
   "metadata": {},
   "outputs": [
    {
     "data": {
      "text/plain": [
       "0.6"
      ]
     },
     "execution_count": 34,
     "metadata": {},
     "output_type": "execute_result"
    }
   ],
   "source": [
    "base_accuracy"
   ]
  },
  {
   "cell_type": "code",
   "execution_count": 35,
   "metadata": {},
   "outputs": [
    {
     "name": "stdout",
     "output_type": "stream",
     "text": [
      "{'fit_intercept': True}\n",
      "{'min_samples_leaf': 3}\n",
      "{'min_samples_leaf': 3}\n",
      "{'degree': 3, 'kernel': 'rbf', 'gamma': 'scale'}\n",
      "{'cv': 5, 'verbose': 2}\n",
      "Fitting 5 folds for each of 2 candidates, totalling 10 fits\n",
      "[CV] END .................................fit_intercept=True; total time=   0.4s\n",
      "[CV] END .................................fit_intercept=True; total time=   0.4s\n",
      "[CV] END .................................fit_intercept=True; total time=   0.4s\n",
      "[CV] END .................................fit_intercept=True; total time=   0.3s\n",
      "[CV] END .................................fit_intercept=True; total time=   0.4s\n",
      "[CV] END ................................fit_intercept=False; total time=   0.3s\n",
      "[CV] END ................................fit_intercept=False; total time=   0.2s\n",
      "[CV] END ................................fit_intercept=False; total time=   0.3s\n",
      "[CV] END ................................fit_intercept=False; total time=   0.3s\n",
      "[CV] END ................................fit_intercept=False; total time=   0.3s\n",
      "{'cv': 5, 'verbose': 2}\n",
      "Fitting 5 folds for each of 1 candidates, totalling 5 fits\n",
      "[CV] END .................................min_samples_leaf=6; total time=  27.5s\n",
      "[CV] END .................................min_samples_leaf=6; total time=  25.0s\n",
      "[CV] END .................................min_samples_leaf=6; total time=  25.8s\n",
      "[CV] END .................................min_samples_leaf=6; total time=  23.6s\n",
      "[CV] END .................................min_samples_leaf=6; total time=  24.1s\n",
      "{'cv': 5, 'verbose': 2}\n",
      "Fitting 5 folds for each of 1 candidates, totalling 5 fits\n",
      "[CV] END .................................min_samples_leaf=6; total time=  25.9s\n",
      "[CV] END .................................min_samples_leaf=6; total time=  25.3s\n",
      "[CV] END .................................min_samples_leaf=6; total time=  28.7s\n",
      "[CV] END .................................min_samples_leaf=6; total time=  27.4s\n",
      "[CV] END .................................min_samples_leaf=6; total time=  24.0s\n",
      "{'cv': 5, 'verbose': 2}\n",
      "Fitting 5 folds for each of 1 candidates, totalling 5 fits\n",
      "[CV] END ..................degree=6, gamma=scale, kernel=rbf; total time=16.6min\n",
      "[CV] END ..................degree=6, gamma=scale, kernel=rbf; total time=15.0min\n",
      "[CV] END ..................degree=6, gamma=scale, kernel=rbf; total time=14.6min\n",
      "[CV] END ..................degree=6, gamma=scale, kernel=rbf; total time=15.0min\n",
      "[CV] END ..................degree=6, gamma=scale, kernel=rbf; total time=13.0min\n"
     ]
    }
   ],
   "source": [
    "best_model = model_factory.get_best_model(X=x_train,y=y_train,base_accuracy=base_accuracy)"
   ]
  },
  {
   "cell_type": "code",
   "execution_count": 36,
   "metadata": {},
   "outputs": [
    {
     "data": {
      "text/plain": [
       "GridSearchedBestModel(model_serial_number='module_1', model=RandomForestClassifier(min_samples_leaf=3), best_model=RandomForestClassifier(min_samples_leaf=6), best_parameters={'min_samples_leaf': 6}, best_score=0.9366)"
      ]
     },
     "execution_count": 36,
     "metadata": {},
     "output_type": "execute_result"
    }
   ],
   "source": [
    "best_model"
   ]
  },
  {
   "cell_type": "code",
   "execution_count": 37,
   "metadata": {},
   "outputs": [],
   "source": [
    "from default_prediction.entity.model_factory import MetricInfoArtifact, ModelFactory,GridSearchedBestModel\n",
    "from default_prediction.entity.model_factory import evaluate_regression_model\n",
    "from typing import List"
   ]
  },
  {
   "cell_type": "code",
   "execution_count": 38,
   "metadata": {},
   "outputs": [],
   "source": [
    "grid_searched_best_model_list:List[GridSearchedBestModel]=model_factory.grid_searched_best_model_list"
   ]
  },
  {
   "cell_type": "code",
   "execution_count": 39,
   "metadata": {},
   "outputs": [
    {
     "data": {
      "text/plain": [
       "[GridSearchedBestModel(model_serial_number='module_0', model=LogisticRegression(), best_model=LogisticRegression(), best_parameters={'fit_intercept': True}, best_score=0.9343),\n",
       " GridSearchedBestModel(model_serial_number='module_1', model=RandomForestClassifier(min_samples_leaf=3), best_model=RandomForestClassifier(min_samples_leaf=6), best_parameters={'min_samples_leaf': 6}, best_score=0.9366),\n",
       " GridSearchedBestModel(model_serial_number='module_2', model=GradientBoostingClassifier(min_samples_leaf=3), best_model=GradientBoostingClassifier(min_samples_leaf=6), best_parameters={'min_samples_leaf': 6}, best_score=0.7648083333333333),\n",
       " GridSearchedBestModel(model_serial_number='module_3', model=SVC(), best_model=SVC(degree=6), best_parameters={'degree': 6, 'gamma': 'scale', 'kernel': 'rbf'}, best_score=0.9348583333333333)]"
      ]
     },
     "execution_count": 39,
     "metadata": {},
     "output_type": "execute_result"
    }
   ],
   "source": [
    "grid_searched_best_model_list"
   ]
  },
  {
   "cell_type": "code",
   "execution_count": 40,
   "metadata": {},
   "outputs": [],
   "source": [
    "model_list = [model.best_model for model in grid_searched_best_model_list ]"
   ]
  },
  {
   "cell_type": "code",
   "execution_count": 41,
   "metadata": {},
   "outputs": [
    {
     "data": {
      "text/plain": [
       "[LogisticRegression(),\n",
       " RandomForestClassifier(min_samples_leaf=6),\n",
       " GradientBoostingClassifier(min_samples_leaf=6),\n",
       " SVC(degree=6)]"
      ]
     },
     "execution_count": 41,
     "metadata": {},
     "output_type": "execute_result"
    }
   ],
   "source": [
    "model_list"
   ]
  },
  {
   "cell_type": "code",
   "execution_count": 42,
   "metadata": {},
   "outputs": [],
   "source": [
    "from sklearn.metrics import r2_score,mean_squared_error"
   ]
  },
  {
   "cell_type": "code",
   "execution_count": 43,
   "metadata": {},
   "outputs": [],
   "source": [
    "def evaluate_regression_model(model_list: list, X_train:np.ndarray, y_train:np.ndarray, X_test:np.ndarray, y_test:np.ndarray, base_accuracy:float=0.6) -> MetricInfoArtifact:\n",
    "    \"\"\"\n",
    "    Description:\n",
    "    This function compare multiple regression model return best model\n",
    "    Params:\n",
    "    model_list: List of model\n",
    "    X_train: Training dataset input feature\n",
    "    y_train: Training dataset target feature\n",
    "    X_test: Testing dataset input feature\n",
    "    y_test: Testing dataset input feature\n",
    "    return\n",
    "    It retured a named tuple\n",
    "    \n",
    "    MetricInfoArtifact = namedtuple(\"MetricInfo\",\n",
    "                                [\"model_name\", \"model_object\", \"train_rmse\", \"test_rmse\", \"train_accuracy\",\n",
    "                                 \"test_accuracy\", \"model_accuracy\", \"index_number\"])\n",
    "    \"\"\"\n",
    "    try:\n",
    "        \n",
    "        #model_list = [model.best_model for model in model_list]\n",
    "        index_number = 0\n",
    "        metric_info_artifact = None\n",
    "        for model in model_list:\n",
    "            model_name = str(model)  #getting model name based on model object\n",
    "            logging.info(f\"{'>>'*30}Started evaluating model: [{type(model).__name__}] {'<<'*30}\")\n",
    "            \n",
    "            #Getting prediction for training and testing dataset\n",
    "            y_train_pred = model.predict(X_train)\n",
    "            y_test_pred = model.predict(X_test)\n",
    "\n",
    "            #Calculating r squared score on training and testing dataset\n",
    "            train_acc = r2_score(y_train, y_train_pred)\n",
    "            test_acc = r2_score(y_test, y_test_pred)\n",
    "            \n",
    "            #Calculating mean squared error on training and testing dataset\n",
    "            train_rmse = mean_squared_error(y_train, y_train_pred)\n",
    "            test_rmse = mean_squared_error(y_test, y_test_pred)\n",
    "\n",
    "            # Calculating harmonic mean of train_accuracy and test_accuracy\n",
    "            model_accuracy = (2 * (train_acc * test_acc)) / (train_acc + test_acc)\n",
    "            diff_test_train_acc = abs(test_acc - train_acc)\n",
    "            \n",
    "            #logging all important metric\n",
    "            logging.info(f\"{'>>'*30} Score {'<<'*30}\")\n",
    "            logging.info(f\"Train Score\\t\\t Test Score\\t\\t Average Score\")\n",
    "            logging.info(f\"{train_acc}\\t\\t {test_acc}\\t\\t{model_accuracy}\")\n",
    "\n",
    "            logging.info(f\"{'>>'*30} Loss {'<<'*30}\")\n",
    "            logging.info(f\"Diff test train accuracy: [{diff_test_train_acc}].\") \n",
    "            logging.info(f\"Train root mean squared error: [{train_rmse}].\")\n",
    "            logging.info(f\"Test root mean squared error: [{test_rmse}].\")\n",
    "\n",
    "\n",
    "            #if model accuracy is greater than base accuracy and train and test score is within certain thershold\n",
    "            #we will accept that model as accepted model\n",
    "            if model_accuracy >= base_accuracy and diff_test_train_acc < 0.05:\n",
    "                base_accuracy = model_accuracy\n",
    "                metric_info_artifact = MetricInfoArtifact(model_name=model_name,\n",
    "                                                        model_object=model,\n",
    "                                                        train_rmse=train_rmse,\n",
    "                                                        test_rmse=test_rmse,\n",
    "                                                        train_accuracy=train_acc,\n",
    "                                                        test_accuracy=test_acc,\n",
    "                                                        model_accuracy=model_accuracy,\n",
    "                                                        index_number=index_number)\n",
    "\n",
    "                logging.info(f\"Acceptable model found {metric_info_artifact}. \")\n",
    "            index_number += 1\n",
    "        if metric_info_artifact is None:\n",
    "            logging.info(f\"No model found with higher accuracy than base accuracy\")\n",
    "        return metric_info_artifact\n",
    "    except Exception as e:\n",
    "        raise ExceptionHandler(e, sys) from e\n"
   ]
  },
  {
   "cell_type": "code",
   "execution_count": 44,
   "metadata": {},
   "outputs": [],
   "source": [
    "index_number = 0\n",
    "metric_info_artifact = None\n",
    "for model in model_list:\n",
    "    model_name = str(model)  #getting model name based on model object"
   ]
  },
  {
   "cell_type": "code",
   "execution_count": 45,
   "metadata": {},
   "outputs": [
    {
     "data": {
      "text/plain": [
       "'SVC(degree=6)'"
      ]
     },
     "execution_count": 45,
     "metadata": {},
     "output_type": "execute_result"
    }
   ],
   "source": [
    "model_name"
   ]
  },
  {
   "cell_type": "code",
   "execution_count": 46,
   "metadata": {},
   "outputs": [],
   "source": [
    "y_train_pred = model.predict(x_train)"
   ]
  },
  {
   "cell_type": "code",
   "execution_count": 47,
   "metadata": {},
   "outputs": [
    {
     "data": {
      "text/plain": [
       "array([0., 0., 0., ..., 0., 0., 0.])"
      ]
     },
     "execution_count": 47,
     "metadata": {},
     "output_type": "execute_result"
    }
   ],
   "source": [
    "y_train_pred"
   ]
  },
  {
   "cell_type": "code",
   "execution_count": 48,
   "metadata": {},
   "outputs": [],
   "source": [
    "y_test_pred = model.predict(x_test)"
   ]
  },
  {
   "cell_type": "code",
   "execution_count": 49,
   "metadata": {},
   "outputs": [
    {
     "data": {
      "text/plain": [
       "array([0., 0., 0., ..., 0., 0., 0.])"
      ]
     },
     "execution_count": 49,
     "metadata": {},
     "output_type": "execute_result"
    }
   ],
   "source": [
    "y_test_pred"
   ]
  },
  {
   "cell_type": "code",
   "execution_count": 50,
   "metadata": {},
   "outputs": [],
   "source": [
    "train_acc = r2_score(y_train, y_train_pred)\n",
    "test_acc = r2_score(y_test, y_test_pred)"
   ]
  },
  {
   "cell_type": "code",
   "execution_count": 51,
   "metadata": {},
   "outputs": [
    {
     "data": {
      "text/plain": [
       "-0.04092516648595512"
      ]
     },
     "execution_count": 51,
     "metadata": {},
     "output_type": "execute_result"
    }
   ],
   "source": [
    "train_acc"
   ]
  },
  {
   "cell_type": "code",
   "execution_count": 52,
   "metadata": {},
   "outputs": [
    {
     "data": {
      "text/plain": [
       "-0.051064588776492226"
      ]
     },
     "execution_count": 52,
     "metadata": {},
     "output_type": "execute_result"
    }
   ],
   "source": [
    "test_acc"
   ]
  },
  {
   "cell_type": "code",
   "execution_count": 53,
   "metadata": {},
   "outputs": [],
   "source": [
    "train_rmse = mean_squared_error(y_train, y_train_pred)\n",
    "test_rmse = mean_squared_error(y_test, y_test_pred)"
   ]
  },
  {
   "cell_type": "code",
   "execution_count": 54,
   "metadata": {},
   "outputs": [
    {
     "data": {
      "text/plain": [
       "0.06463333333333333"
      ]
     },
     "execution_count": 54,
     "metadata": {},
     "output_type": "execute_result"
    }
   ],
   "source": [
    "train_rmse"
   ]
  },
  {
   "cell_type": "code",
   "execution_count": 55,
   "metadata": {},
   "outputs": [
    {
     "data": {
      "text/plain": [
       "0.06673333333333334"
      ]
     },
     "execution_count": 55,
     "metadata": {},
     "output_type": "execute_result"
    }
   ],
   "source": [
    "test_rmse"
   ]
  },
  {
   "cell_type": "code",
   "execution_count": 56,
   "metadata": {},
   "outputs": [],
   "source": [
    "model_accuracy = (2 * (train_acc * test_acc)) / (train_acc + test_acc)"
   ]
  },
  {
   "cell_type": "code",
   "execution_count": 57,
   "metadata": {},
   "outputs": [
    {
     "data": {
      "text/plain": [
       "-0.04543607690340062"
      ]
     },
     "execution_count": 57,
     "metadata": {},
     "output_type": "execute_result"
    }
   ],
   "source": [
    "model_accuracy"
   ]
  },
  {
   "cell_type": "code",
   "execution_count": 58,
   "metadata": {},
   "outputs": [],
   "source": [
    "diff_test_train_acc = abs(test_acc - train_acc)"
   ]
  },
  {
   "cell_type": "code",
   "execution_count": 59,
   "metadata": {},
   "outputs": [
    {
     "data": {
      "text/plain": [
       "0.010139422290537103"
      ]
     },
     "execution_count": 59,
     "metadata": {},
     "output_type": "execute_result"
    }
   ],
   "source": [
    "diff_test_train_acc"
   ]
  },
  {
   "cell_type": "code",
   "execution_count": 60,
   "metadata": {},
   "outputs": [],
   "source": [
    "if model_accuracy >= base_accuracy and diff_test_train_acc < 0.05:\n",
    "    base_accuracy = model_accuracy"
   ]
  },
  {
   "cell_type": "code",
   "execution_count": 61,
   "metadata": {},
   "outputs": [
    {
     "data": {
      "text/plain": [
       "0.6"
      ]
     },
     "execution_count": 61,
     "metadata": {},
     "output_type": "execute_result"
    }
   ],
   "source": [
    "base_accuracy"
   ]
  },
  {
   "cell_type": "code",
   "execution_count": 62,
   "metadata": {},
   "outputs": [],
   "source": [
    "metric_info_artifact = MetricInfoArtifact(model_name=model_name,\n",
    "                                                        model_object=model,\n",
    "                                                        train_rmse=train_rmse,\n",
    "                                                        test_rmse=test_rmse,\n",
    "                                                        train_accuracy=train_acc,\n",
    "                                                        test_accuracy=test_acc,\n",
    "                                                        model_accuracy=model_accuracy,\n",
    "                                                        index_number=index_number)"
   ]
  },
  {
   "cell_type": "code",
   "execution_count": 63,
   "metadata": {},
   "outputs": [
    {
     "data": {
      "text/plain": [
       "-0.04543607690340062"
      ]
     },
     "execution_count": 63,
     "metadata": {},
     "output_type": "execute_result"
    }
   ],
   "source": [
    "metric_info_artifact.model_accuracy"
   ]
  },
  {
   "cell_type": "code",
   "execution_count": 64,
   "metadata": {},
   "outputs": [
    {
     "data": {
      "text/html": [
       "<style>#sk-container-id-1 {color: black;background-color: white;}#sk-container-id-1 pre{padding: 0;}#sk-container-id-1 div.sk-toggleable {background-color: white;}#sk-container-id-1 label.sk-toggleable__label {cursor: pointer;display: block;width: 100%;margin-bottom: 0;padding: 0.3em;box-sizing: border-box;text-align: center;}#sk-container-id-1 label.sk-toggleable__label-arrow:before {content: \"▸\";float: left;margin-right: 0.25em;color: #696969;}#sk-container-id-1 label.sk-toggleable__label-arrow:hover:before {color: black;}#sk-container-id-1 div.sk-estimator:hover label.sk-toggleable__label-arrow:before {color: black;}#sk-container-id-1 div.sk-toggleable__content {max-height: 0;max-width: 0;overflow: hidden;text-align: left;background-color: #f0f8ff;}#sk-container-id-1 div.sk-toggleable__content pre {margin: 0.2em;color: black;border-radius: 0.25em;background-color: #f0f8ff;}#sk-container-id-1 input.sk-toggleable__control:checked~div.sk-toggleable__content {max-height: 200px;max-width: 100%;overflow: auto;}#sk-container-id-1 input.sk-toggleable__control:checked~label.sk-toggleable__label-arrow:before {content: \"▾\";}#sk-container-id-1 div.sk-estimator input.sk-toggleable__control:checked~label.sk-toggleable__label {background-color: #d4ebff;}#sk-container-id-1 div.sk-label input.sk-toggleable__control:checked~label.sk-toggleable__label {background-color: #d4ebff;}#sk-container-id-1 input.sk-hidden--visually {border: 0;clip: rect(1px 1px 1px 1px);clip: rect(1px, 1px, 1px, 1px);height: 1px;margin: -1px;overflow: hidden;padding: 0;position: absolute;width: 1px;}#sk-container-id-1 div.sk-estimator {font-family: monospace;background-color: #f0f8ff;border: 1px dotted black;border-radius: 0.25em;box-sizing: border-box;margin-bottom: 0.5em;}#sk-container-id-1 div.sk-estimator:hover {background-color: #d4ebff;}#sk-container-id-1 div.sk-parallel-item::after {content: \"\";width: 100%;border-bottom: 1px solid gray;flex-grow: 1;}#sk-container-id-1 div.sk-label:hover label.sk-toggleable__label {background-color: #d4ebff;}#sk-container-id-1 div.sk-serial::before {content: \"\";position: absolute;border-left: 1px solid gray;box-sizing: border-box;top: 0;bottom: 0;left: 50%;z-index: 0;}#sk-container-id-1 div.sk-serial {display: flex;flex-direction: column;align-items: center;background-color: white;padding-right: 0.2em;padding-left: 0.2em;position: relative;}#sk-container-id-1 div.sk-item {position: relative;z-index: 1;}#sk-container-id-1 div.sk-parallel {display: flex;align-items: stretch;justify-content: center;background-color: white;position: relative;}#sk-container-id-1 div.sk-item::before, #sk-container-id-1 div.sk-parallel-item::before {content: \"\";position: absolute;border-left: 1px solid gray;box-sizing: border-box;top: 0;bottom: 0;left: 50%;z-index: -1;}#sk-container-id-1 div.sk-parallel-item {display: flex;flex-direction: column;z-index: 1;position: relative;background-color: white;}#sk-container-id-1 div.sk-parallel-item:first-child::after {align-self: flex-end;width: 50%;}#sk-container-id-1 div.sk-parallel-item:last-child::after {align-self: flex-start;width: 50%;}#sk-container-id-1 div.sk-parallel-item:only-child::after {width: 0;}#sk-container-id-1 div.sk-dashed-wrapped {border: 1px dashed gray;margin: 0 0.4em 0.5em 0.4em;box-sizing: border-box;padding-bottom: 0.4em;background-color: white;}#sk-container-id-1 div.sk-label label {font-family: monospace;font-weight: bold;display: inline-block;line-height: 1.2em;}#sk-container-id-1 div.sk-label-container {text-align: center;}#sk-container-id-1 div.sk-container {/* jupyter's `normalize.less` sets `[hidden] { display: none; }` but bootstrap.min.css set `[hidden] { display: none !important; }` so we also need the `!important` here to be able to override the default hidden behavior on the sphinx rendered scikit-learn.org. See: https://github.com/scikit-learn/scikit-learn/issues/21755 */display: inline-block !important;position: relative;}#sk-container-id-1 div.sk-text-repr-fallback {display: none;}</style><div id=\"sk-container-id-1\" class=\"sk-top-container\"><div class=\"sk-text-repr-fallback\"><pre>SVC(degree=6)</pre><b>In a Jupyter environment, please rerun this cell to show the HTML representation or trust the notebook. <br />On GitHub, the HTML representation is unable to render, please try loading this page with nbviewer.org.</b></div><div class=\"sk-container\" hidden><div class=\"sk-item\"><div class=\"sk-estimator sk-toggleable\"><input class=\"sk-toggleable__control sk-hidden--visually\" id=\"sk-estimator-id-1\" type=\"checkbox\" checked><label for=\"sk-estimator-id-1\" class=\"sk-toggleable__label sk-toggleable__label-arrow\">SVC</label><div class=\"sk-toggleable__content\"><pre>SVC(degree=6)</pre></div></div></div></div></div>"
      ],
      "text/plain": [
       "SVC(degree=6)"
      ]
     },
     "execution_count": 64,
     "metadata": {},
     "output_type": "execute_result"
    }
   ],
   "source": [
    "metric_info_artifact.model_object"
   ]
  },
  {
   "cell_type": "code",
   "execution_count": 65,
   "metadata": {},
   "outputs": [
    {
     "data": {
      "text/plain": [
       "'SVC(degree=6)'"
      ]
     },
     "execution_count": 65,
     "metadata": {},
     "output_type": "execute_result"
    }
   ],
   "source": [
    "metric_info_artifact.model_name"
   ]
  },
  {
   "cell_type": "code",
   "execution_count": 66,
   "metadata": {},
   "outputs": [
    {
     "data": {
      "text/plain": [
       "-0.051064588776492226"
      ]
     },
     "execution_count": 66,
     "metadata": {},
     "output_type": "execute_result"
    }
   ],
   "source": [
    "metric_info_artifact.test_accuracy"
   ]
  },
  {
   "cell_type": "code",
   "execution_count": 67,
   "metadata": {},
   "outputs": [
    {
     "data": {
      "text/plain": [
       "0.06463333333333333"
      ]
     },
     "execution_count": 67,
     "metadata": {},
     "output_type": "execute_result"
    }
   ],
   "source": [
    "metric_info_artifact.train_rmse"
   ]
  },
  {
   "cell_type": "code",
   "execution_count": 68,
   "metadata": {},
   "outputs": [
    {
     "data": {
      "text/plain": [
       "-0.04092516648595512"
      ]
     },
     "execution_count": 68,
     "metadata": {},
     "output_type": "execute_result"
    }
   ],
   "source": [
    "metric_info_artifact.train_accuracy"
   ]
  },
  {
   "cell_type": "code",
   "execution_count": 69,
   "metadata": {},
   "outputs": [
    {
     "data": {
      "text/plain": [
       "0.06673333333333334"
      ]
     },
     "execution_count": 69,
     "metadata": {},
     "output_type": "execute_result"
    }
   ],
   "source": [
    "metric_info_artifact.test_rmse"
   ]
  },
  {
   "cell_type": "code",
   "execution_count": 70,
   "metadata": {},
   "outputs": [
    {
     "data": {
      "text/plain": [
       "0"
      ]
     },
     "execution_count": 70,
     "metadata": {},
     "output_type": "execute_result"
    }
   ],
   "source": [
    "metric_info_artifact.index_number"
   ]
  },
  {
   "cell_type": "code",
   "execution_count": 71,
   "metadata": {},
   "outputs": [],
   "source": [
    "index_number += 1"
   ]
  },
  {
   "cell_type": "code",
   "execution_count": 72,
   "metadata": {},
   "outputs": [
    {
     "data": {
      "text/plain": [
       "1"
      ]
     },
     "execution_count": 72,
     "metadata": {},
     "output_type": "execute_result"
    }
   ],
   "source": [
    "index_number"
   ]
  },
  {
   "cell_type": "code",
   "execution_count": 73,
   "metadata": {},
   "outputs": [
    {
     "data": {
      "text/plain": [
       "MetricInfoArtifact(model_name='SVC(degree=6)', model_object=SVC(degree=6), train_rmse=0.06463333333333333, test_rmse=0.06673333333333334, train_accuracy=-0.04092516648595512, test_accuracy=-0.051064588776492226, model_accuracy=-0.04543607690340062, index_number=0)"
      ]
     },
     "execution_count": 73,
     "metadata": {},
     "output_type": "execute_result"
    }
   ],
   "source": [
    "metric_info_artifact"
   ]
  },
  {
   "cell_type": "code",
   "execution_count": null,
   "metadata": {},
   "outputs": [],
   "source": []
  },
  {
   "cell_type": "code",
   "execution_count": 74,
   "metadata": {},
   "outputs": [],
   "source": [
    "evaluate_regression_model(model_list=model_list,X_train=x_train,y_train=y_train,X_test=x_test,y_test=y_test,base_accuracy=base_accuracy)"
   ]
  },
  {
   "cell_type": "code",
   "execution_count": 75,
   "metadata": {},
   "outputs": [],
   "source": [
    "metric_info:MetricInfoArtifact = evaluate_regression_model(model_list=model_list,X_train=x_train,y_train=y_train,X_test=x_test,y_test=y_test,base_accuracy=base_accuracy)"
   ]
  },
  {
   "cell_type": "code",
   "execution_count": 76,
   "metadata": {},
   "outputs": [],
   "source": [
    "metric_info:MetricInfoArtifact = evaluate_regression_model(model_list=model_list,X_train=x_train,y_train=y_train,X_test=x_test,y_test=y_test,base_accuracy=base_accuracy)"
   ]
  },
  {
   "cell_type": "code",
   "execution_count": 78,
   "metadata": {},
   "outputs": [],
   "source": [
    "metric_info"
   ]
  },
  {
   "cell_type": "code",
   "execution_count": null,
   "metadata": {},
   "outputs": [],
   "source": [
    "preprocessing_obj=  load_object(file_path=data_transformation_artifact.preprocessed_object_file_path)"
   ]
  },
  {
   "cell_type": "code",
   "execution_count": null,
   "metadata": {},
   "outputs": [],
   "source": [
    "preprocessing_obj"
   ]
  },
  {
   "cell_type": "code",
   "execution_count": null,
   "metadata": {},
   "outputs": [],
   "source": [
    "model_object = metric_info.model_object"
   ]
  },
  {
   "cell_type": "code",
   "execution_count": null,
   "metadata": {},
   "outputs": [],
   "source": []
  }
 ],
 "metadata": {
  "kernelspec": {
   "display_name": "Python 3.10.0 (conda)",
   "language": "python",
   "name": "python3"
  },
  "language_info": {
   "codemirror_mode": {
    "name": "ipython",
    "version": 3
   },
   "file_extension": ".py",
   "mimetype": "text/x-python",
   "name": "python",
   "nbconvert_exporter": "python",
   "pygments_lexer": "ipython3",
   "version": "3.10.0"
  },
  "orig_nbformat": 4,
  "vscode": {
   "interpreter": {
    "hash": "6eacfbad7401267e36d96dfec867d8f6a1496126239d0bba4c2ea5f7fef5f7e5"
   }
  }
 },
 "nbformat": 4,
 "nbformat_minor": 2
}
